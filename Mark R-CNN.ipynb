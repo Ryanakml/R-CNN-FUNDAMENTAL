{
 "cells": [
  {
   "cell_type": "markdown",
   "id": "3a8a9513-1e6b-4aa0-aa9f-059d9c75d5e6",
   "metadata": {},
   "source": [
    "# **MASK R-CNN**\n",
    "\n"
   ]
  },
  {
   "cell_type": "markdown",
   "id": "e004f896-1967-4626-894c-48b5e603c69d",
   "metadata": {},
   "source": [
    "## **Convolutional Neural Networks (CNN)**\n",
    "\n",
    "* CNN (Convolutional Neural Network) adalah jenis Neural Network untuk Pengenalan Gambar.\n",
    "* Memproses Data Gambar Pixel per Pixel untuk menganalisa dan memperoleh informasi seperti Warna, Bentuk, dan Struktur.\n",
    "\n",
    "* Arsitektur Convolutional Neural Network(CNN):\n",
    "  1. Convolutional Layer ; Abstraksi (mengenali) gambar masukan sebagai peta fitur dengan filter dan kernel.\n",
    "      - filter | Kernel : Alat yang digunakan untuk mengenali pola tertentu pada gambar, seperti garis dan bentuk.\n",
    "      - peta fitur : hasil dari penerapan filter, menunjukkan letak fitur atau pola pada gambar.\n",
    "\n",
    "\n",
    "  2. ROI(Region of Interest) Pulling Layer :\n",
    "        - Penggabungan : Merangkum informasi penting pada bagian bagian kecil pada gambar agar lebih mudah dikelola.\n",
    "        - ROI(Region of Interest) : Bagian pada gambar yang dianggap penting, misalnya pola wajah pada gambar berada pada wilayah tertentu pada gambar yang bisa direpresentasikan oleh ROI(Region of Interest).\n",
    "  3. Fully connected layer: Menghubungkan setiap neuron pada setiap layer\n",
    "     - Neuron : seperti otak kecil yang mengolah informasi dan mengirimnya ke sesama neuron\n",
    "     - Terhubung Sepenuhnya : setiap neuron(otak kecil) pada setiap layer terhubung ke neuron pada layer lain.\n",
    "\n"
   ]
  },
  {
   "cell_type": "markdown",
   "id": "fa20a420-aaba-4874-9325-90a6fc53ba0f",
   "metadata": {},
   "source": [
    "* **REPRESENTASI VISUAL Convolutional Neural Network (CNN)**\n",
    "\n",
    "![](https://viso.ai/wp-content/uploads/2021/03/cnn-convolutional-neural-networks.jpg)"
   ]
  },
  {
   "cell_type": "markdown",
   "id": "40c01f9c-edd4-4039-95f8-5b2237a7315c",
   "metadata": {},
   "source": [
    "### **Neural Network**\n",
    "\n",
    "* Nerual Network adalah model yang terinspirasi dari cara kerja otak manusia, tiap \n",
    "* Neuron saling berhubungan dan Informasi mengalir dari neuron ke neuron.\n",
    "\n",
    "![](https://miro.medium.com/v2/resize:fit:2000/format:webp/1*6s8p68NJoD16Sc5jLzCRCg.jpeg)"
   ]
  },
  {
   "cell_type": "markdown",
   "id": "f3a96cfb-3123-4b8c-bcd8-a6c977b3e505",
   "metadata": {},
   "source": [
    "* Tiap neuron(pemroses) menerima input(masukan)\n",
    "* melakukan operasi dot(mengikuti resep) dengan parameter weight(bobot)\n",
    "* menjumlahkannya (weighted sum) (mencampur semuanya)\n",
    "* menambahkan bias(tambahan, di luar resep dan bobot)\n",
    "* Hasil dari operasi ini (campuran) akan dijadikan parameter dari activation function (oven yang memproses semuanya) \n",
    "* yang akan dijadikan output dari neuron tersebut."
   ]
  },
  {
   "cell_type": "markdown",
   "id": "7c2c298d-f064-4dfa-814a-65526e10e077",
   "metadata": {},
   "source": [
    "#### **Activation Function**\n",
    "\n",
    "*Menentukan apakah neuron harus 'aktif' atau tidak berdasarkan weighted sum dari input*\n",
    "\n",
    "##### **Linear Function**\n",
    "\n",
    "![](https://miro.medium.com/v2/resize:fit:1100/format:webp/1*lCttImObk_6YBVCcxTXVJw.jpeg)\n",
    "\n",
    "* Linear Function (default) fungsi neuron.\n",
    "* Input -> Operasi Dot + Weight -> Weighted Sum + Bias -> ACTIVATION FUNCTION (Linear Function) -> Weighter Sum + Bias (Output)"
   ]
  },
  {
   "cell_type": "markdown",
   "id": "68d260fa-1fe2-4cec-b8c2-15b91b448742",
   "metadata": {},
   "source": [
    "#### **ReLU (Rectified Linear Unit) (Non-Linear)**\n",
    "\n",
    "![](https://miro.medium.com/v2/resize:fit:640/format:webp/1*QindKA4Dt7Ol3CbICMSxWw.png)\n",
    "\n",
    "* ReLU melakukan “treshold” dari 0 hingga infinity, merepresentasikan output yang berbeda sejalan secara continu dari 0 hingga tak hingga\n",
    "\n",
    "\n",
    "#### **Softmax Function**"
   ]
  },
  {
   "cell_type": "markdown",
   "id": "3ec7acb2-ddaa-41e3-b05a-a29940b2002b",
   "metadata": {},
   "source": [
    "### **Neural Network Architecture**\n",
    "\n",
    "![](https://miro.medium.com/v2/resize:fit:2000/format:webp/1*HKfrSssprnukPyb1SFtISA.jpeg)\n",
    "\n",
    "**MLP (Multi Layer Perceptron) atau Fully Connected Layer :**\n",
    "\n"
   ]
  },
  {
   "cell_type": "markdown",
   "id": "022584ab-e1f7-46a1-a82e-cb9f527fba3f",
   "metadata": {},
   "source": [
    "### **Explanation of the latest models and methods**"
   ]
  },
  {
   "cell_type": "markdown",
   "id": "95c60df0-6276-4658-b852-702252869dd5",
   "metadata": {},
   "source": [
    "## **Region-Based Convolutional Neural Networks (R-CNN)**"
   ]
  },
  {
   "cell_type": "markdown",
   "id": "1b3bdea5-ff76-468b-a395-6adab901f8e3",
   "metadata": {},
   "source": [
    "## **Faster R-CNN with Region Proposal Networks (RPN)**"
   ]
  },
  {
   "cell_type": "code",
   "execution_count": null,
   "id": "8b9b9b1d-a5ee-411b-92af-28c8b9889876",
   "metadata": {},
   "outputs": [],
   "source": []
  },
  {
   "cell_type": "markdown",
   "id": "47d38167-a2e1-43e5-acc0-fa4b7f58da9d",
   "metadata": {},
   "source": [
    "## **Mask R-CNN and how it works**"
   ]
  },
  {
   "cell_type": "markdown",
   "id": "6f70f7d0-a488-40bd-889f-058556b313ec",
   "metadata": {},
   "source": [
    "## **Contoh proyek dan aplikasi**"
   ]
  },
  {
   "cell_type": "code",
   "execution_count": null,
   "id": "b7bb8804-e9fd-4fa9-9c6c-ad743d5e9a84",
   "metadata": {},
   "outputs": [],
   "source": []
  }
 ],
 "metadata": {
  "kernelspec": {
   "display_name": "Python 3 (ipykernel)",
   "language": "python",
   "name": "python3"
  },
  "language_info": {
   "codemirror_mode": {
    "name": "ipython",
    "version": 3
   },
   "file_extension": ".py",
   "mimetype": "text/x-python",
   "name": "python",
   "nbconvert_exporter": "python",
   "pygments_lexer": "ipython3",
   "version": "3.12.3"
  }
 },
 "nbformat": 4,
 "nbformat_minor": 5
}
